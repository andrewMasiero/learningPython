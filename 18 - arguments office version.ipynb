{
 "cells": [
  {
   "cell_type": "code",
   "execution_count": 4,
   "metadata": {},
   "outputs": [
    {
     "name": "stdout",
     "output_type": "stream",
     "text": [
      "(1, 2, 3, 4)\n",
      "{'a': 1, 'b': 2}\n",
      "1 (2, 3) {'x': 1, 'y': 2}\n"
     ]
    }
   ],
   "source": [
    "# ARBITRARY ARGUMENTS EXAMPLES\n",
    "# * and **\n",
    "# HEADERS: COLLECTING ARGUMENTS\n",
    "def f(*args): print(args)\n",
    "f(1, 2, 3, 4)\n",
    "\n",
    "def f(**args): print(args)\n",
    "f(a=1, b=2)\n",
    "\n",
    "def f(a, *pargs, **kargs): print(a, pargs, kargs)\n",
    "f(1, 2, 3, x=1,y=2)"
   ]
  },
  {
   "cell_type": "code",
   "execution_count": 6,
   "metadata": {},
   "outputs": [
    {
     "name": "stdout",
     "output_type": "stream",
     "text": [
      "1 2 3 4\n",
      "1 2 3 4\n"
     ]
    }
   ],
   "source": [
    "# Calls: Unpacking arguments during the function call\n",
    "def func(a, b, c, d): print(a, b, c, d)\n",
    "\n",
    "args = (1, 2)\n",
    "args += (3, 4)\n",
    "func(*args)\n",
    "\n",
    "args = {'a': 1, 'b': 2, 'c': 3}\n",
    "args['d'] = 4\n",
    "func(**args)"
   ]
  },
  {
   "cell_type": "code",
   "execution_count": 12,
   "metadata": {},
   "outputs": [
    {
     "name": "stdout",
     "output_type": "stream",
     "text": [
      "calling: func\n",
      "10\n"
     ]
    }
   ],
   "source": [
    "# Applying functions generically\n",
    "def tracer(func, *pargs, **kargs):\n",
    "    print('calling:', func.__name__)\n",
    "    return func(*pargs, **kargs)\n",
    "\n",
    "def func(a, b, c, d):\n",
    "    return a + b + c + d\n",
    "\n",
    "print(tracer(func, 1, 2, c=3, d=4))"
   ]
  },
  {
   "cell_type": "code",
   "execution_count": null,
   "metadata": {},
   "outputs": [],
   "source": [
    "# SKIP The defunct apply build-in\n",
    "# Python 3.x keyword-only arguments\n",
    "# must be after a * or *args parameter\n",
    "# keyword-only arguments are required if a default value is not assigned\n",
    "def kwonly(a, *b, c): # c is keyword only; b is for *args\n",
    "    print(a, b, c)\n",
    "\n",
    "def kwonly(a, *, b, c): # b & c are keyword only; * accepts no arguments and only indicates that  keyword-only arguments follow\n",
    "    print(a, b, c)\n",
    "\n",
    "# ORDERING RULES\n",
    "# keywords args cannot appear after **args & ** cannot appear alone\n"
   ]
  },
  {
   "cell_type": "code",
   "execution_count": 3,
   "metadata": {},
   "outputs": [
    {
     "data": {
      "text/plain": [
       "1"
      ]
     },
     "execution_count": 3,
     "metadata": {},
     "output_type": "execute_result"
    }
   ],
   "source": [
    "# THE MIN WAKEUP CALL!\n",
    "def min1(*args):\n",
    "    res = args[0]\n",
    "    for arg in args[1:]:\n",
    "        if arg < res:\n",
    "            res = arg\n",
    "    return res\n",
    "\n",
    "min1(3, 2, 1, 4)"
   ]
  },
  {
   "cell_type": "code",
   "execution_count": 11,
   "metadata": {},
   "outputs": [
    {
     "name": "stdout",
     "output_type": "stream",
     "text": [
      "('abcdefg', 'abdst', 'albmcnd', 'a')\n",
      "['a']\n",
      "('abdst', 'albmcnd', 'a', 'abcdefg')\n",
      "['a']\n",
      "('albmcnd', 'a', 'abcdefg', 'abdst')\n",
      "['a']\n",
      "('a', 'abcdefg', 'abdst', 'albmcnd')\n",
      "['a']\n",
      "['a', 'b', 'c', 'd', 'e', 'f', 'g', 'l', 'm', 'n', 's', 't']\n",
      "['a', 'b', 'c', 'd', 'e', 'f', 'g', 'l', 'm', 'n', 's', 't']\n",
      "['a', 'b', 'c', 'd', 'e', 'f', 'g', 'l', 'm', 'n', 's', 't']\n",
      "['a', 'b', 'c', 'd', 'e', 'f', 'g', 'l', 'm', 'n', 's', 't']\n"
     ]
    }
   ],
   "source": [
    "# GENERALIZED SET FUNCTIONS\n",
    "from inter2 import intersect, union\n",
    "s1, s2, s3 = 'spam', 'scam', 'slam'\n",
    "# print(intersect(s1, s2), union(s1, s2))\n",
    "# print(intersect([1, 2, 3], (1, 4)))\n",
    "# print(intersect(s1, s2, s3))\n",
    "# print(union(s1, s2, s3))\n",
    "\n",
    "def tester(func, items, trace=True):\n",
    "    for i in range(len(items)):\n",
    "        items = items[1:] + items[:1]\n",
    "        if trace: print(items)\n",
    "        print(sorted(func(*items)))\n",
    "\n",
    "tester(intersect, ('a', 'abcdefg', 'abdst', 'albmcnd'))\n",
    "tester(union, ('a', 'abcdefg', 'abdst', 'albmcnd'), False)\n",
    "tester(intersect, ('a', 'abcdefg', 'abdst', 'albmcnd'), False)"
   ]
  }
 ],
 "metadata": {
  "kernelspec": {
   "display_name": "Python 3.8.3 64-bit",
   "language": "python",
   "name": "python3"
  },
  "language_info": {
   "codemirror_mode": {
    "name": "ipython",
    "version": 3
   },
   "file_extension": ".py",
   "mimetype": "text/x-python",
   "name": "python",
   "nbconvert_exporter": "python",
   "pygments_lexer": "ipython3",
   "version": "3.8.3"
  },
  "orig_nbformat": 4,
  "vscode": {
   "interpreter": {
    "hash": "570feb405e2e27c949193ac68f46852414290d515b0ba6e5d90d076ed2284471"
   }
  }
 },
 "nbformat": 4,
 "nbformat_minor": 2
}
