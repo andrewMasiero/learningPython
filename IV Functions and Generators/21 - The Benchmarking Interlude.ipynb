{
 "cells": [
  {
   "cell_type": "markdown",
   "metadata": {},
   "source": [
    "# Chapter 21 - The Benchmarking Interlude"
   ]
  },
  {
   "cell_type": "code",
   "execution_count": 4,
   "metadata": {},
   "outputs": [
    {
     "name": "stdout",
     "output_type": "stream",
     "text": [
      "Best of total: (6.810000000001537e-05, (7.259999999575939e-05, 'SPAM'))\n"
     ]
    },
    {
     "data": {
      "text/plain": [
       "(6.810000000001537e-05, (7.259999999575939e-05, 'SPAM'))"
      ]
     },
     "execution_count": 4,
     "metadata": {},
     "output_type": "execute_result"
    }
   ],
   "source": [
    "# TIMING ITERATION ALTERNATIVES\n",
    "\n",
    "# Timing Module: Homegrown\n",
    "from timer0 import timer\n",
    "\n",
    "spam = 'spam'\n",
    "# timer(pow, 2, 1000)\n",
    "# timer(str.upper, spam)\n",
    "\n",
    "import timer\n",
    "# timer.total(1000, pow, 2, 1000)[0]\n",
    "# timer.total(1000, str.upper, spam)\n",
    "\n",
    "# timer.bestof(1000, str.upper, spam)\n",
    "# timer.bestof(1000, pow, 2, 1000000)[0]\n",
    "\n",
    "# timer.bestof(50, timer.total, 1000, str.upper, spam)\n",
    "timer.bestoftotal(50, 1000, str.upper, spam)"
   ]
  },
  {
   "cell_type": "code",
   "execution_count": 5,
   "metadata": {},
   "outputs": [
    {
     "data": {
      "text/plain": [
       "(5.840000000034706e-05, 'SPAM')"
      ]
     },
     "execution_count": 5,
     "metadata": {},
     "output_type": "execute_result"
    }
   ],
   "source": [
    "min(timer.total(1000, str.upper, spam) for i in range(50))"
   ]
  },
  {
   "cell_type": "code",
   "execution_count": null,
   "metadata": {},
   "outputs": [],
   "source": [
    "# Timing results\n",
    "# see timeseqs.py"
   ]
  },
  {
   "cell_type": "code",
   "execution_count": 9,
   "metadata": {},
   "outputs": [
    {
     "name": "stdout",
     "output_type": "stream",
     "text": [
      "forLoop  : 0.58100 => [10...10009]\n",
      "listComp : 0.38112 => [10...10009]\n",
      "mapCall  : 0.86628 => [10...10009]\n",
      "genExpr  : 0.60954 => [10...10009]\n",
      "genFunc  : 0.58698 => [10...10009]\n"
     ]
    }
   ],
   "source": [
    "# Timing module alternatives\n",
    "import sys, timer2\n",
    "from timeseqs import forLoop, listComp, mapCall, genExpr, genFunc\n",
    "\n",
    "for test in (forLoop, listComp, mapCall, genExpr, genFunc):\n",
    "    (total, result) = timer2.bestoftotal(test, _reps1=5, _reps=1000)\n",
    "    print('%-9s: %.5f => [%s...%s]' %\n",
    "          (test.__name__, total, result[0], result[-1]))\n"
   ]
  },
  {
   "cell_type": "code",
   "execution_count": 10,
   "metadata": {},
   "outputs": [
    {
     "name": "stdout",
     "output_type": "stream",
     "text": [
      "forLoop  : 0.62754 => [10...10009]\n",
      "listComp : 0.37866 => [10...10009]\n",
      "mapCall  : 0.86445 => [10...10009]\n",
      "genExpr  : 0.58069 => [10...10009]\n",
      "genFunc  : 0.54585 => [10...10009]\n"
     ]
    }
   ],
   "source": [
    "# Timing module alternatives\n",
    "import sys, timer3\n",
    "from timeseqs import forLoop, listComp, mapCall, genExpr, genFunc\n",
    "\n",
    "for test in (forLoop, listComp, mapCall, genExpr, genFunc):\n",
    "    (total, result) = timer2.bestoftotal(test, _reps=1000, _reps1=5)\n",
    "    print('%-9s: %.5f => [%s...%s]' %\n",
    "          (test.__name__, total, result[0], result[-1]))\n"
   ]
  },
  {
   "cell_type": "code",
   "execution_count": 12,
   "metadata": {},
   "outputs": [
    {
     "data": {
      "text/plain": [
       "0.2235949999994773"
      ]
     },
     "execution_count": 12,
     "metadata": {},
     "output_type": "execute_result"
    }
   ],
   "source": [
    "# TIMIUNG ITERATIONS AND PYTHONS WITH TIMEIT\n",
    "\n",
    "import timeit\n",
    "min(timeit.repeat(stmt=\"[x ** 2 for x in range(1000)]\", number=1000, repeat=5))"
   ]
  }
 ],
 "metadata": {
  "kernelspec": {
   "display_name": "Python 3.8.3 64-bit",
   "language": "python",
   "name": "python3"
  },
  "language_info": {
   "codemirror_mode": {
    "name": "ipython",
    "version": 3
   },
   "file_extension": ".py",
   "mimetype": "text/x-python",
   "name": "python",
   "nbconvert_exporter": "python",
   "pygments_lexer": "ipython3",
   "version": "3.8.3"
  },
  "orig_nbformat": 4,
  "vscode": {
   "interpreter": {
    "hash": "570feb405e2e27c949193ac68f46852414290d515b0ba6e5d90d076ed2284471"
   }
  }
 },
 "nbformat": 4,
 "nbformat_minor": 2
}
