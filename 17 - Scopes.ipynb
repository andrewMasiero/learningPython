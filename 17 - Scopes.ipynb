{
 "cells": [
  {
   "cell_type": "markdown",
   "metadata": {},
   "source": [
    "# Chapter 17: Scopes"
   ]
  },
  {
   "cell_type": "code",
   "execution_count": 1,
   "metadata": {},
   "outputs": [
    {
     "name": "stdout",
     "output_type": "stream",
     "text": [
      "88\n"
     ]
    }
   ],
   "source": [
    "# scopes\n",
    "x = 99\n",
    "\n",
    "def f1():\n",
    "    x = 88\n",
    "    def f2():\n",
    "        print(x)\n",
    "    return f2\n",
    "\n",
    "action = f1()\n",
    "action()"
   ]
  },
  {
   "cell_type": "code",
   "execution_count": 12,
   "metadata": {},
   "outputs": [
    {
     "name": "stdout",
     "output_type": "stream",
     "text": [
      "16\n",
      "0\n",
      "1\n",
      "4\n",
      "16\n"
     ]
    }
   ],
   "source": [
    "#nested scopes, defaults, and lambdas\n",
    "def func():\n",
    "    x = 4\n",
    "    action = (lambda n: x ** n)\n",
    "    return action\n",
    "\n",
    "x = func()\n",
    "print(x(2))\n",
    "\n",
    "# if lamdba is nexted within a for loop; you need to assign a default value to the parameter or all instances \n",
    "# will use the same value of the changing parameter (the value during the last iteration)\n",
    "def makeActions():\n",
    "    acts = []\n",
    "    for i in range(5):\n",
    "        acts.append(lambda x, i=i: i ** x)\n",
    "    return acts\n",
    "\n",
    "acts = makeActions()\n",
    "print(acts[0](2))\n",
    "print(acts[1](2))\n",
    "print(acts[2](2))\n",
    "print(acts[4](2))\n"
   ]
  },
  {
   "cell_type": "code",
   "execution_count": 24,
   "metadata": {},
   "outputs": [
    {
     "name": "stdout",
     "output_type": "stream",
     "text": [
      "<class 'function'>\n",
      "fdsa\n"
     ]
    }
   ],
   "source": [
    "# the nonlocal statement in 3.x\n",
    "def func():\n",
    "    name1 = 'fdsa'\n",
    "    def printName():\n",
    "        nonlocal name1\n",
    "        print(name1)\n",
    "    return printName\n",
    "\n",
    "print(type(func()))\n",
    "x = func()\n",
    "x()"
   ]
  },
  {
   "cell_type": "code",
   "execution_count": 37,
   "metadata": {},
   "outputs": [
    {
     "name": "stdout",
     "output_type": "stream",
     "text": [
      "green 0\n",
      "spam 1\n",
      "ham 2\n"
     ]
    },
    {
     "ename": "AttributeError",
     "evalue": "'function' object has no attribute 'state'",
     "output_type": "error",
     "traceback": [
      "\u001b[1;31m---------------------------------------------------------------------------\u001b[0m",
      "\u001b[1;31mAttributeError\u001b[0m                            Traceback (most recent call last)",
      "Cell \u001b[1;32mIn [37], line 14\u001b[0m\n\u001b[0;32m     12\u001b[0m F(\u001b[39m'\u001b[39m\u001b[39mspam\u001b[39m\u001b[39m'\u001b[39m)\n\u001b[0;32m     13\u001b[0m F(\u001b[39m'\u001b[39m\u001b[39mham\u001b[39m\u001b[39m'\u001b[39m)\n\u001b[1;32m---> 14\u001b[0m F\u001b[39m.\u001b[39;49mstate\n",
      "\u001b[1;31mAttributeError\u001b[0m: 'function' object has no attribute 'state'"
     ]
    }
   ],
   "source": [
    "# nonlocal in action\n",
    "def tester(start):\n",
    "    state = start\n",
    "    def nested(label):\n",
    "        nonlocal state\n",
    "        print(label, state)\n",
    "        state += 1\n",
    "    return nested\n",
    "\n",
    "F = tester(0)\n",
    "F('green')\n",
    "F('spam')\n",
    "F('ham')\n",
    "F.state"
   ]
  },
  {
   "cell_type": "code",
   "execution_count": 41,
   "metadata": {},
   "outputs": [
    {
     "name": "stdout",
     "output_type": "stream",
     "text": [
      "green 0\n",
      "eggs 1\n",
      "spam 2\n"
     ]
    }
   ],
   "source": [
    "# state with globals: a single copy only\n",
    "# the global variable is always shared; a nonlocal would be created for each call to 'tester'\n",
    "def tester(start):\n",
    "    global state\n",
    "    state = start\n",
    "    def nested(label):\n",
    "        global state\n",
    "        print(label, state)\n",
    "        state += 1\n",
    "    return nested\n",
    "\n",
    "F = tester(0)\n",
    "F('green')\n",
    "F('eggs')\n",
    "F('spam')"
   ]
  },
  {
   "cell_type": "code",
   "execution_count": 44,
   "metadata": {},
   "outputs": [
    {
     "name": "stdout",
     "output_type": "stream",
     "text": [
      "green 0\n",
      "green 0\n",
      "eggs 1\n",
      "and 2\n",
      "spam 3\n"
     ]
    }
   ],
   "source": [
    "# state with classes: explicit attributes (preview)\n",
    "# also supports multiple copies\n",
    "class tester:\n",
    "    def __init__(self, start):\n",
    "        self.state = start\n",
    "    def nested(self, label):\n",
    "        print(label, self.state)\n",
    "        self.state += 1\n",
    "\n",
    "F = tester(0)\n",
    "G = tester(0)\n",
    "F.nested('green')\n",
    "G.nested('green')\n",
    "F.nested('eggs')\n",
    "F.nested('and')\n",
    "F.nested('spam')"
   ]
  },
  {
   "cell_type": "code",
   "execution_count": 46,
   "metadata": {},
   "outputs": [
    {
     "name": "stdout",
     "output_type": "stream",
     "text": [
      "0\n",
      "green 0\n",
      "1\n"
     ]
    }
   ],
   "source": [
    "# state with function attributes: 3.x and 2.x\n",
    "def tester(start):\n",
    "    def nested(label):\n",
    "        print(label, nested.state)\n",
    "        nested.state += 1\n",
    "    nested.state = start\n",
    "    return nested\n",
    "\n",
    "F = tester(0)\n",
    "print(F.state)\n",
    "F('green')\n",
    "print(F.state)"
   ]
  },
  {
   "cell_type": "code",
   "execution_count": 47,
   "metadata": {},
   "outputs": [],
   "source": [
    "# state with mutables: obscure ghost of pythons past?\n",
    "def tester(start):\n",
    "    def nested(label):\n",
    "        print(label, state[0])\n",
    "        state[0] += 1\n",
    "    state = [start]\n",
    "    return nested"
   ]
  }
 ],
 "metadata": {
  "kernelspec": {
   "display_name": "Python 3.9.1 64-bit",
   "language": "python",
   "name": "python3"
  },
  "language_info": {
   "codemirror_mode": {
    "name": "ipython",
    "version": 3
   },
   "file_extension": ".py",
   "mimetype": "text/x-python",
   "name": "python",
   "nbconvert_exporter": "python",
   "pygments_lexer": "ipython3",
   "version": "3.9.1"
  },
  "orig_nbformat": 4,
  "vscode": {
   "interpreter": {
    "hash": "7acca9f89239cea9ee602293383d0578b230e8e5e92034fe3c9e98e69272162a"
   }
  }
 },
 "nbformat": 4,
 "nbformat_minor": 2
}
