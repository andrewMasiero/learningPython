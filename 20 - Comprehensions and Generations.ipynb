{
 "cells": [
  {
   "cell_type": "markdown",
   "metadata": {},
   "source": [
    "# Comprehensions and Generations\n",
    "* advanced functions continued"
   ]
  },
  {
   "cell_type": "code",
   "execution_count": 10,
   "metadata": {},
   "outputs": [
    {
     "name": "stdout",
     "output_type": "stream",
     "text": [
      "115\n",
      "[115, 112, 97, 109]\n",
      "[115, 112, 97, 109]\n",
      "[115, 112, 97, 109]\n",
      "[0, 1, 4, 9, 16, 25, 36, 49, 64, 81]\n",
      "[0, 1, 4, 9, 16, 25, 36, 49, 64, 81]\n"
     ]
    }
   ],
   "source": [
    "# LIST COMPREHENSIONS AND FUNCTIONAL TOOLS\n",
    "\n",
    "# List comprehensions vs map\n",
    "\n",
    "print(ord('s'))\n",
    "\n",
    "res = []\n",
    "for x in 'spam':\n",
    "    res.append(ord(x))\n",
    "\n",
    "print(res)\n",
    "\n",
    "res = list(map(ord, 'spam'))\n",
    "print(res)\n",
    "\n",
    "res = [ord(x) for x in 'spam']\n",
    "print(res)\n",
    "\n",
    "print([x ** 2 for x in range(10)])\n",
    "print(list(map((lambda x: x ** 2), range(10))))"
   ]
  },
  {
   "cell_type": "code",
   "execution_count": 16,
   "metadata": {},
   "outputs": [
    {
     "name": "stdout",
     "output_type": "stream",
     "text": [
      "[0, 2, 4]\n",
      "[0, 2, 4]\n",
      "[0, 2, 4]\n",
      "[0, 4, 16, 36, 64]\n",
      "[0, 4, 16, 36, 64]\n"
     ]
    }
   ],
   "source": [
    "# Adding tests and nested loops: filter\n",
    "\n",
    "print([x for x in range(5) if x % 2 == 0])\n",
    "print(list(filter((lambda x: x % 2 == 0), range(5))))\n",
    "\n",
    "res = []\n",
    "for x in range(5):\n",
    "    if x % 2 == 0:\n",
    "        res.append(x)\n",
    "\n",
    "print(res)\n",
    "\n",
    "# combine if clause and expression to give the effect of filter AND map\n",
    "print([x ** 2 for x in range(10) if x % 2 == 0])\n",
    "print(list(map((lambda x: x ** 2), filter((lambda x: x % 2 == 0), range(10)))))"
   ]
  },
  {
   "cell_type": "code",
   "execution_count": null,
   "metadata": {},
   "outputs": [],
   "source": [
    "# Formal expression syntax\n",
    "\n",
    "'''\n",
    "[ expression for target in iterable]\n",
    "[ expression for target1 in iterable1 if condition1\n",
    "             for target2 in iterable2 if condition2\n",
    "             for targetN in iterableN if conditionN ]\n",
    "'''\n",
    "\n",
    "# nesting can get quite deep and complex\n",
    "# nesting like this with map and filter are even more difficult\n",
    "# consider using whitespace to make nested statements easier to read"
   ]
  },
  {
   "cell_type": "code",
   "execution_count": 30,
   "metadata": {},
   "outputs": [
    {
     "name": "stdout",
     "output_type": "stream",
     "text": [
      "[4, 5, 6]\n",
      "[2, 5, 8]\n",
      "[2, 5, 8]\n",
      "\n",
      "[1, 5, 9]\n",
      "[3, 5, 7]\n",
      "\n",
      "[11, 12, 13, 14, 15, 16, 17, 18, 19]\n",
      "[[11, 12, 13], [14, 15, 16], [17, 18, 19]]\n",
      "\n",
      "[2, 4, 6, 12, 15, 18, 28, 32, 36]\n",
      "[[2, 4, 6], [12, 15, 18], [28, 32, 36]]\n",
      "\n",
      "[[2, 4, 6], [12, 15, 18], [28, 32, 36]]\n",
      "\n"
     ]
    }
   ],
   "source": [
    "# Example: list comprehensions and matrixes\n",
    "\n",
    "M = [[1, 2, 3], \n",
    "     [4, 5, 6],\n",
    "     [7, 8, 9]]\n",
    "N = [[2, 2, 2],\n",
    "     [3, 3, 3],\n",
    "     [4, 4, 4]]\n",
    "\n",
    "print(M[1])\n",
    "print([row[1] for row in M]) # column 2\n",
    "print([M[row][1] for row in (0, 1, 2)]) # using offsets\n",
    "print()\n",
    "\n",
    "print([M[i][i] for i in range(len(M))]) # diagonals\n",
    "print([M[i][len(M)-1-i] for i in range(len(M))])\n",
    "print()\n",
    "\n",
    "print([col + 10 for row in M for col in row])\n",
    "print([[col + 10 for col in row] for row in M]) # nesting to produce multiple lists\n",
    "print()\n",
    "\n",
    "print([M[row][col] * N[row][col] for row in range(3) for col in range(3)])\n",
    "print([[M[row][col] * N[row][col] for col in range(3)] for row in range(3)])\n",
    "print()\n",
    "\n",
    "print([[col1 * col2 for (col1, col2) in zip(row1, row2)] for (row1, row2) in zip(M, N)])\n",
    "print()\n",
    "\n"
   ]
  },
  {
   "cell_type": "code",
   "execution_count": 8,
   "metadata": {},
   "outputs": [
    {
     "name": "stdout",
     "output_type": "stream",
     "text": [
      "0 : 1 : 4 : 9 : 16 : \n",
      "<generator object gensquares at 0x0000018DDB976EB0>\n"
     ]
    },
    {
     "data": {
      "text/plain": [
       "0"
      ]
     },
     "execution_count": 8,
     "metadata": {},
     "output_type": "execute_result"
    }
   ],
   "source": [
    "# GENERATOR FUNCTIONS AND EXPRESSIONS\n",
    "\n",
    "# Generator functions: yield vs return\n",
    "\n",
    "def gensquares(N):\n",
    "    for i in range(N):\n",
    "        yield i ** 2\n",
    "\n",
    "for i in gensquares(5):\n",
    "    print(i, end=' : ')\n",
    "print()\n",
    "\n",
    "x = gensquares(4)\n",
    "print(x)\n",
    "\n",
    "y = gensquares(5)\n",
    "iter(y) is y\n",
    "next(y)"
   ]
  },
  {
   "cell_type": "code",
   "execution_count": 9,
   "metadata": {},
   "outputs": [
    {
     "name": "stdout",
     "output_type": "stream",
     "text": [
      "0 : 1 : 4 : 9 : 16 : "
     ]
    }
   ],
   "source": [
    "# Why generator functions?\n",
    "# this builds the whole list up front\n",
    "# generators yield each value as needed JIT\n",
    "# there is a big potential for efficient memory usage and improved computational performance\n",
    "\n",
    "def buildsquares(n):\n",
    "    res = []\n",
    "    for i in range(n): res.append(i ** 2)\n",
    "    return res\n",
    "\n",
    "for x in buildsquares(5): print(x, end=' : ')\n",
    "\n",
    "# can be a simpler alternative for saving the state between iterations in class objects\n",
    "# also much more broadly focused than so far implied"
   ]
  },
  {
   "cell_type": "code",
   "execution_count": null,
   "metadata": {},
   "outputs": [],
   "source": [
    "# Extended generator function protocol: send vs next\n",
    "# This is very complicated and will need to be reviewed after more experience"
   ]
  },
  {
   "cell_type": "code",
   "execution_count": null,
   "metadata": {},
   "outputs": [],
   "source": [
    "# GENERATOR EXPRESSIONS: ITERABLES MEET COMPREHENSIONS\n",
    "\n",
    "# enclose in parentheses like tuples (optional)"
   ]
  },
  {
   "cell_type": "code",
   "execution_count": null,
   "metadata": {},
   "outputs": [],
   "source": [
    "# Generator expressions vs map\n",
    "# Generator expressions vs filter\n",
    "# Generator expressions are pretty identical to list comprehensions"
   ]
  },
  {
   "cell_type": "code",
   "execution_count": null,
   "metadata": {},
   "outputs": [],
   "source": [
    "# GENERATOR FUNCTIONS VS GENERATOR EXPRESSIONS\n",
    "\n"
   ]
  }
 ],
 "metadata": {
  "kernelspec": {
   "display_name": "Python 3.8.3 64-bit",
   "language": "python",
   "name": "python3"
  },
  "language_info": {
   "codemirror_mode": {
    "name": "ipython",
    "version": 3
   },
   "file_extension": ".py",
   "mimetype": "text/x-python",
   "name": "python",
   "nbconvert_exporter": "python",
   "pygments_lexer": "ipython3",
   "version": "3.8.3"
  },
  "orig_nbformat": 4,
  "vscode": {
   "interpreter": {
    "hash": "570feb405e2e27c949193ac68f46852414290d515b0ba6e5d90d076ed2284471"
   }
  }
 },
 "nbformat": 4,
 "nbformat_minor": 2
}
