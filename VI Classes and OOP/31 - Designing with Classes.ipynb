{
 "cells": [
  {
   "cell_type": "markdown",
   "metadata": {},
   "source": [
    "## Chapter 31: Designing with Classes"
   ]
  },
  {
   "cell_type": "code",
   "execution_count": null,
   "metadata": {},
   "outputs": [],
   "source": [
    "# Python and OOP\n",
    "\"\"\"\n",
    "Python's implementation of OOP can be summarized by three ideas \n",
    "Inheritance\n",
    "    inheritance is based on attribute lookup in Python (in X.name expressions)\n",
    "Polymorphism\n",
    "    In X.method, the meaning of method depends on the type (class) of subject object X\n",
    "Encapsulation\n",
    "    Methods and operators implement behavior, though data hiding is a convention by default\n",
    "\"\"\"\n",
    "\n",
    "# OOP and Inheritance: \"Is-a\" relationships\n",
    "# OOP and composition: \"Has-a\" relationships\n",
    "# OOP and delegation: \"Wrapper\" proxy objects\n"
   ]
  }
 ],
 "metadata": {
  "kernelspec": {
   "display_name": "Python 3.8.3 64-bit",
   "language": "python",
   "name": "python3"
  },
  "language_info": {
   "name": "python",
   "version": "3.8.3"
  },
  "orig_nbformat": 4,
  "vscode": {
   "interpreter": {
    "hash": "570feb405e2e27c949193ac68f46852414290d515b0ba6e5d90d076ed2284471"
   }
  }
 },
 "nbformat": 4,
 "nbformat_minor": 2
}
