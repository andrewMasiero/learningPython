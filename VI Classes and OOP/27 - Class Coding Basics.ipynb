{
 "cells": [
  {
   "cell_type": "markdown",
   "metadata": {},
   "source": [
    "# Chapter 27 - Class Coding Basics"
   ]
  },
  {
   "cell_type": "code",
   "execution_count": 3,
   "metadata": {},
   "outputs": [
    {
     "name": "stdout",
     "output_type": "stream",
     "text": [
      "King Arthur\n",
      "3.14159\n"
     ]
    }
   ],
   "source": [
    "# a first example\n",
    "\n",
    "class FirstClass:\n",
    "    def setdata(self, value):\n",
    "        self.data = value\n",
    "    def display(self):\n",
    "        print(self.data)\n",
    "\n",
    "x = FirstClass()\n",
    "y = FirstClass()\n",
    "\n",
    "x.setdata('King Arthur')\n",
    "x.display()\n",
    "\n",
    "y.setdata(3.14159)\n",
    "y.display()"
   ]
  },
  {
   "cell_type": "code",
   "execution_count": 4,
   "metadata": {},
   "outputs": [
    {
     "name": "stdout",
     "output_type": "stream",
     "text": [
      "current value = \"42\"\n",
      "42\n",
      "King Arthur\n",
      "current value = \"King Arthur\"\n"
     ]
    }
   ],
   "source": [
    "class SecondClass(FirstClass):\n",
    "    def display(self):\n",
    "        print(f'current value = \"{self.data}\"')\n",
    "\n",
    "z = SecondClass()\n",
    "z.setdata(42)\n",
    "z.display()\n",
    "\n",
    "FirstClass.display(z)\n",
    "x.display()\n",
    "SecondClass.display(x)"
   ]
  },
  {
   "cell_type": "code",
   "execution_count": 5,
   "metadata": {},
   "outputs": [
    {
     "name": "stdout",
     "output_type": "stream",
     "text": [
      "current value = \"abc\"\n",
      "[thirdClass: abc]\n",
      "current value = \"abcxyz\"\n",
      "[thirdClass: abcxyz]\n",
      "[thirdClass: abcabcabc]\n"
     ]
    }
   ],
   "source": [
    "# A Third Example\n",
    "\n",
    "class ThirdClass(SecondClass):\n",
    "    def __init__(self, value):\n",
    "        self.data = value\n",
    "    def __add__(self, other):\n",
    "        return ThirdClass(self.data + other)\n",
    "    def __str__(self):\n",
    "        return '[thirdClass: %s]' % self.data\n",
    "    def mul(self, other):\n",
    "        self.data *= other\n",
    "\n",
    "a = ThirdClass('abc')\n",
    "a.display()\n",
    "print(a)\n",
    "\n",
    "b = a + 'xyz'\n",
    "b.display()\n",
    "print(b)\n",
    "\n",
    "a.mul(3)\n",
    "print(a)"
   ]
  },
  {
   "cell_type": "code",
   "execution_count": null,
   "metadata": {},
   "outputs": [],
   "source": []
  }
 ],
 "metadata": {
  "kernelspec": {
   "display_name": "Python 3.8.3 64-bit",
   "language": "python",
   "name": "python3"
  },
  "language_info": {
   "codemirror_mode": {
    "name": "ipython",
    "version": 3
   },
   "file_extension": ".py",
   "mimetype": "text/x-python",
   "name": "python",
   "nbconvert_exporter": "python",
   "pygments_lexer": "ipython3",
   "version": "3.8.3"
  },
  "orig_nbformat": 4,
  "vscode": {
   "interpreter": {
    "hash": "570feb405e2e27c949193ac68f46852414290d515b0ba6e5d90d076ed2284471"
   }
  }
 },
 "nbformat": 4,
 "nbformat_minor": 2
}
