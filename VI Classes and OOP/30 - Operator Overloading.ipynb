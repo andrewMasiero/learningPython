{
 "cells": [
  {
   "cell_type": "markdown",
   "metadata": {},
   "source": [
    "## Chapter 30 - Operator Overloading"
   ]
  },
  {
   "cell_type": "code",
   "execution_count": 5,
   "metadata": {},
   "outputs": [
    {
     "name": "stdout",
     "output_type": "stream",
     "text": [
      "SAOSM-6485\n",
      " \tITPROV-2716\n",
      " \tOSM should not send CALL_REFERENCE_NUMBER_TN param to ASAP in New Connect scenario\n",
      "SAOSM-6818\n",
      " \tITPROV-2509\n",
      " \tOSM - FetchServiceTNCFalloutTask with error \"HSD TNC Scenario where same USOC is present more than once\"\n",
      "SAOSM-7251\n",
      " \tITPROV-2986\n",
      " \tGEN2 - OSM - Sending ACK to SOA\n",
      "SAOSM-7370\n",
      " \tITPROV-2986\n",
      " \tGEN2 - OSM - Sending ACK to SOA\n",
      "SAOSM-7319\n",
      " \tITPROV-3068\n",
      " \tESR cancel goes Neustar Ack does not send transaction to TPGW/Neustar\n",
      "SAOSM-7300\n",
      " \t \tsearchbyFQDN API to GetCustomerService | UIM V1->V2\n",
      "SAOSM-7276\n",
      " \t \tFindServiceByID API to GetCustomerService API | UIM V1->V2\n",
      "SAOSM-7337\n",
      " \t \tProd Analysis | Swap order stuck in PROVBPSTransferDeviceTask\n",
      "SAOSM-7333\n",
      " \t \tProduction Analysis – Merged Splunk logging\n",
      "SAOSM-7347\n",
      " \tITPROV-3106\n",
      " \tProduction: OSM is not triggering sodi closure for ignore items - TWC Resi OFGW orders\n",
      "SAOSM-7331\n",
      "SAOSM-7332\n",
      " \tITPROV-2561\n",
      " \tOSM Generating a new PON instead of canceling the existing PON\n",
      "SAOSM-7238\n",
      " \tITPROV-2744\n",
      " \tOSM - Receive From Activation task on Self Install Transfer Like-for-Like (No-Shp/Pu) not completing after due date\n",
      "SAOSM-7354\n",
      " \tITPROV-2492\n",
      " \t“Job Check In From SOM Wait” task remains open even after SOM Video sent the check-in message\n",
      "SAOSM-7223\n",
      " \tITPROV-2581\n",
      " \tOrder in Amending stuck at OSMWaitForJobClosureNotificationTask in OSM - OSM unable to handle Multi-Intent Order Change supplement.\n",
      "SAOSM-7368\n",
      " \tITPROV-3079\n",
      " \tRing Central Issues - Exception in RingCentral UpdateAccount{} UnifiedVoiceService is not available in UIM for the accoutn number\n",
      "SAOSM-7428\n",
      " \t \tModify SPID Value based on the state code for COM And Ancillary Order in case of BHN Market\n",
      "SAOSM-7415\n",
      " \tITPROV-3021\n",
      " \tAPOSA||OSM||LLGetMacAddressTask are not completing in OSM.\n",
      "SAOSM-7446\n",
      " \t \tHSD COS order workflow to be in sync with both LTWC and LChtr\n",
      "SAOSM-6485, SAOSM-6818, SAOSM-7251, SAOSM-7370, SAOSM-7319, SAOSM-7300, SAOSM-7276, SAOSM-7337, SAOSM-7333, SAOSM-7347, SAOSM-7331, SAOSM-7332, SAOSM-7238, SAOSM-7354, SAOSM-7223, SAOSM-7368, SAOSM-7428, SAOSM-7415, SAOSM-7446, \n"
     ]
    }
   ],
   "source": [
    "import pyperclip\n",
    "text = pyperclip.paste().splitlines()\n",
    "output = ''\n",
    "# print(text)\n",
    "for t in text:\n",
    "    if t.startswith('SAOSM'):\n",
    "        output += f'{t}, '\n",
    "\n",
    "print(output)"
   ]
  }
 ],
 "metadata": {
  "kernelspec": {
   "display_name": "Python 3.8.3 64-bit",
   "language": "python",
   "name": "python3"
  },
  "language_info": {
   "codemirror_mode": {
    "name": "ipython",
    "version": 3
   },
   "file_extension": ".py",
   "mimetype": "text/x-python",
   "name": "python",
   "nbconvert_exporter": "python",
   "pygments_lexer": "ipython3",
   "version": "3.8.3"
  },
  "orig_nbformat": 4,
  "vscode": {
   "interpreter": {
    "hash": "570feb405e2e27c949193ac68f46852414290d515b0ba6e5d90d076ed2284471"
   }
  }
 },
 "nbformat": 4,
 "nbformat_minor": 2
}
