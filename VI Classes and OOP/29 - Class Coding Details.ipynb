{
 "cells": [
  {
   "cell_type": "markdown",
   "metadata": {},
   "source": [
    "## Chapter 29 - Class Coding Details"
   ]
  },
  {
   "cell_type": "code",
   "execution_count": 7,
   "metadata": {},
   "outputs": [
    {
     "name": "stdout",
     "output_type": "stream",
     "text": [
      "42 42 42\n",
      "55 55 55\n"
     ]
    }
   ],
   "source": [
    "class SharedData:\n",
    "    spam = 42\n",
    "\n",
    "x = SharedData()\n",
    "y = SharedData()\n",
    "print(x.spam, y.spam, SharedData.spam)\n",
    "x.spam = 12\n",
    "y.spam = 9\n",
    "SharedData.spam = 55\n",
    "print(x.spam, y.spam, SharedData.spam)\n"
   ]
  },
  {
   "cell_type": "code",
   "execution_count": 13,
   "metadata": {},
   "outputs": [
    {
     "name": "stdout",
     "output_type": "stream",
     "text": [
      "1 spam\n"
     ]
    }
   ],
   "source": [
    "class MixedNames:\n",
    "    data = 'spam'\n",
    "    def __init__(self, value):\n",
    "        self.data = value\n",
    "    def display(self):\n",
    "        print(self.data, MixedNames.data)\n",
    "    \n",
    "x = MixedNames(1)\n",
    "x.display()\n",
    "\n"
   ]
  },
  {
   "cell_type": "code",
   "execution_count": 15,
   "metadata": {},
   "outputs": [],
   "source": [
    "class Super:\n",
    "    def delegate(self):\n",
    "        self.action()\n",
    "    def action(self):\n",
    "        assert False, 'action must be defined!'"
   ]
  },
  {
   "cell_type": "code",
   "execution_count": 30,
   "metadata": {},
   "outputs": [
    {
     "name": "stdout",
     "output_type": "stream",
     "text": [
      "{}\n",
      "<class '__main__.Sub'>\n",
      "(<class '__main__.Super'>,)\n",
      "(<class 'object'>,)\n",
      "{'data1': 'spam'}\n",
      "{'data1': 'spam', 'data2': 'eggs'}\n",
      "['__module__', 'hola', '__doc__']\n",
      "['__module__', 'hello', '__dict__', '__weakref__', '__doc__']\n",
      "{}\n"
     ]
    }
   ],
   "source": [
    "class Super:\n",
    "    def hello(self):\n",
    "        self.data1 = 'spam'\n",
    "\n",
    "class Sub(Super):\n",
    "    def hola(self):\n",
    "        self.data2 = 'eggs'\n",
    "\n",
    "X = Sub()\n",
    "print(X.__dict__)\n",
    "\n",
    "print(X.__class__)\n",
    "print(Sub.__bases__)\n",
    "print(Super.__bases__)\n",
    "\n",
    "Y = Sub()\n",
    "\n",
    "X.hello()\n",
    "print(X.__dict__)\n",
    "\n",
    "X.hola()\n",
    "print(X.__dict__)\n",
    "\n",
    "print(list(Sub.__dict__.keys()))\n",
    "print(list(Super.__dict__.keys()))\n",
    "\n",
    "print(Y.__dict__)"
   ]
  },
  {
   "cell_type": "code",
   "execution_count": null,
   "metadata": {},
   "outputs": [],
   "source": []
  }
 ],
 "metadata": {
  "kernelspec": {
   "display_name": "Python 3.8.3 64-bit",
   "language": "python",
   "name": "python3"
  },
  "language_info": {
   "codemirror_mode": {
    "name": "ipython",
    "version": 3
   },
   "file_extension": ".py",
   "mimetype": "text/x-python",
   "name": "python",
   "nbconvert_exporter": "python",
   "pygments_lexer": "ipython3",
   "version": "3.8.3"
  },
  "orig_nbformat": 4,
  "vscode": {
   "interpreter": {
    "hash": "570feb405e2e27c949193ac68f46852414290d515b0ba6e5d90d076ed2284471"
   }
  }
 },
 "nbformat": 4,
 "nbformat_minor": 2
}
