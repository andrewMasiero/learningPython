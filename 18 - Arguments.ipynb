{
 "cells": [
  {
   "cell_type": "markdown",
   "metadata": {},
   "source": [
    "# Chapter 18 - Arguments"
   ]
  },
  {
   "cell_type": "code",
   "execution_count": 3,
   "metadata": {},
   "outputs": [
    {
     "name": "stdout",
     "output_type": "stream",
     "text": [
      "['green']\n"
     ]
    }
   ],
   "source": [
    "# mutable objects are not restricted to local scope in defs\n",
    "text = ['spam']\n",
    "def update(stuff):\n",
    "    stuff[0] = 'green'\n",
    "update(text)\n",
    "\n",
    "print(text)"
   ]
  },
  {
   "cell_type": "code",
   "execution_count": 2,
   "metadata": {},
   "outputs": [
    {
     "name": "stdout",
     "output_type": "stream",
     "text": [
      "['spam']\n"
     ]
    }
   ],
   "source": [
    "# local scope is maintained for a 'value' that is passed in\n",
    "text = ['spam']\n",
    "def update(text):\n",
    "    text = 'green'\n",
    "update(text[0])\n",
    "\n",
    "print(text)"
   ]
  },
  {
   "cell_type": "code",
   "execution_count": 2,
   "metadata": {},
   "outputs": [
    {
     "name": "stdout",
     "output_type": "stream",
     "text": [
      "1 [1, 2]\n"
     ]
    }
   ],
   "source": [
    "# ARGUMENTS AND SHARED REFERENCES\n",
    "# AVOIDING MUTABLE ARGUMENT CHANGES\n",
    "# Normally we WANT to pass in the reference to avoid copying large objects\n",
    "# but we can pass in a copy if we really want to\n",
    "def changer(a, b):\n",
    "    a = 2\n",
    "    b[0] = 'spam'\n",
    "\n",
    "X = 1\n",
    "L = [1, 2]\n",
    "changer(X, L[:])\n",
    "print(X, L)"
   ]
  },
  {
   "cell_type": "code",
   "execution_count": 4,
   "metadata": {},
   "outputs": [
    {
     "ename": "ValueError",
     "evalue": "not enough values to unpack (expected 3, got 2)",
     "output_type": "error",
     "traceback": [
      "\u001b[1;31m---------------------------------------------------------------------------\u001b[0m",
      "\u001b[1;31mValueError\u001b[0m                                Traceback (most recent call last)",
      "Cell \u001b[1;32mIn [4], line 9\u001b[0m\n\u001b[0;32m      7\u001b[0m X \u001b[39m=\u001b[39m \u001b[39m1\u001b[39m\n\u001b[0;32m      8\u001b[0m L \u001b[39m=\u001b[39m [\u001b[39m1\u001b[39m, \u001b[39m2\u001b[39m]\n\u001b[1;32m----> 9\u001b[0m X, L, V \u001b[39m=\u001b[39m multiple(X, L)\n\u001b[0;32m     10\u001b[0m \u001b[39mprint\u001b[39m(X, L)\n",
      "\u001b[1;31mValueError\u001b[0m: not enough values to unpack (expected 3, got 2)"
     ]
    }
   ],
   "source": [
    "# SIMULATING OUTPUT PARAMETERS AND MULTIPLE RESULTS\n",
    "def multiple(x, y):\n",
    "    x = 2\n",
    "    y = [3, 4]\n",
    "    return x, y\n",
    "\n",
    "X = 1\n",
    "L = [1, 2]\n",
    "X, L = multiple(X, L)\n",
    "print(X, L)"
   ]
  }
 ],
 "metadata": {
  "kernelspec": {
   "display_name": "Python 3.9.1 64-bit",
   "language": "python",
   "name": "python3"
  },
  "language_info": {
   "codemirror_mode": {
    "name": "ipython",
    "version": 3
   },
   "file_extension": ".py",
   "mimetype": "text/x-python",
   "name": "python",
   "nbconvert_exporter": "python",
   "pygments_lexer": "ipython3",
   "version": "3.9.1"
  },
  "orig_nbformat": 4,
  "vscode": {
   "interpreter": {
    "hash": "7acca9f89239cea9ee602293383d0578b230e8e5e92034fe3c9e98e69272162a"
   }
  }
 },
 "nbformat": 4,
 "nbformat_minor": 2
}
