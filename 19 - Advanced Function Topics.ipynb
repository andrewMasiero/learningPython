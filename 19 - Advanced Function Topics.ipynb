{
 "cells": [
  {
   "cell_type": "markdown",
   "metadata": {},
   "source": [
    "### Chapter 19 - Advanced Function Topics"
   ]
  },
  {
   "cell_type": "code",
   "execution_count": null,
   "metadata": {},
   "outputs": [],
   "source": [
    "# FUNCTION DESIGN CONCEPTS\n",
    "'''\n",
    "Coupling:\n",
    "    use arguments for input and return for outputs\n",
    "    use global varialbes only when truly necessary\n",
    "    don't change mutable arguments unless the caller expects it\n",
    "    avoid changing variables in another module file directly\n",
    "Cohesion:\n",
    "    each function should have a single unified purpose\n",
    "Size:\n",
    "    each function should be relatively small\n",
    "'''"
   ]
  },
  {
   "cell_type": "code",
   "execution_count": 5,
   "metadata": {},
   "outputs": [
    {
     "name": "stdout",
     "output_type": "stream",
     "text": [
      "15\n",
      "15\n",
      "15\n"
     ]
    }
   ],
   "source": [
    "# RECURSIVE FUNCTIONS\n",
    "# Summatin with recursion\n",
    "def mysum(L):\n",
    "    if not L:\n",
    "        return 0\n",
    "    else: return L[0] + mysum(L[1:])\n",
    "\n",
    "print(mysum([1, 2, 3, 4, 5]))\n",
    "\n",
    "def mysum(L):\n",
    "    return 0 if not L else L[0] + mysum(L[1:])\n",
    "\n",
    "print(mysum([1, 2, 3, 4, 5]))\n",
    "\n",
    "def mysum(L):\n",
    "    first, *rest = L\n",
    "    return first if not rest else first + mysum(rest)\n",
    "\n",
    "print(mysum([1, 2, 3, 4, 5]))\n"
   ]
  },
  {
   "cell_type": "code",
   "execution_count": 7,
   "metadata": {},
   "outputs": [
    {
     "data": {
      "text/plain": [
       "15"
      ]
     },
     "execution_count": 7,
     "metadata": {},
     "output_type": "execute_result"
    }
   ],
   "source": [
    "# Loop statements vs recursion\n",
    "L = [1, 2, 3, 4, 5]\n",
    "sum = 0\n",
    "for x in L: sum += x\n",
    "\n",
    "sum"
   ]
  },
  {
   "cell_type": "code",
   "execution_count": 12,
   "metadata": {},
   "outputs": [
    {
     "name": "stdout",
     "output_type": "stream",
     "text": [
      "Direct call\n",
      "Indirect call!\n",
      "Argument call!\n",
      "Spam!\n",
      "Ham!\n",
      "Spam:Ham!\n",
      "Spam:Eggs!\n"
     ]
    }
   ],
   "source": [
    "# FUNCTION OBJECTS: ATTRIBUTES AND ANNOTATIONS\n",
    "\n",
    "# Indirect function calls: \"first class\" objects\n",
    "def echo(message):\n",
    "    print(message)\n",
    "\n",
    "echo('Direct call')\n",
    "\n",
    "x = echo\n",
    "x('Indirect call!')\n",
    "\n",
    "def indirect(func, arg):\n",
    "    func(arg)\n",
    "\n",
    "indirect(echo, 'Argument call!')\n",
    "\n",
    "schedule = [(echo, 'Spam!'), (echo, 'Ham!')]\n",
    "for (func, arg) in schedule:\n",
    "    func(arg)\n",
    "\n",
    "def make(label):\n",
    "    def echo(message):\n",
    "        print(label + ':' + message)\n",
    "    return echo\n",
    "\n",
    "F = make('Spam')\n",
    "F('Ham!')\n",
    "F('Eggs!')\n"
   ]
  },
  {
   "cell_type": "code",
   "execution_count": 20,
   "metadata": {},
   "outputs": [
    {
     "name": "stdout",
     "output_type": "stream",
     "text": [
      "spamspamspamspamspamspamspamspam\n",
      "func\n",
      "['__annotations__', '__call__', '__class__', '__closure__', '__code__', '__defaults__', '__delattr__', '__dict__', '__dir__', '__doc__', '__eq__', '__format__', '__ge__', '__get__', '__getattribute__', '__globals__', '__gt__', '__hash__', '__init__', '__init_subclass__', '__kwdefaults__', '__le__', '__lt__', '__module__', '__name__', '__ne__', '__new__', '__qualname__', '__reduce__', '__reduce_ex__', '__repr__', '__setattr__', '__sizeof__', '__str__', '__subclasshook__']\n",
      "<code object func at 0x0000017CA18A57C0, file \"C:\\Users\\p2894500\\AppData\\Local\\Temp\\ipykernel_21604\\3647848212.py\", line 2>\n",
      "['__class__', '__delattr__', '__dir__', '__doc__', '__eq__', '__format__', '__ge__', '__getattribute__', '__gt__', '__hash__', '__init__', '__init_subclass__', '__le__', '__lt__', '__ne__', '__new__', '__reduce__', '__reduce_ex__', '__repr__', '__setattr__', '__sizeof__', '__str__', '__subclasshook__', 'co_argcount', 'co_cellvars', 'co_code', 'co_consts', 'co_filename', 'co_firstlineno', 'co_flags', 'co_freevars', 'co_kwonlyargcount', 'co_lnotab', 'co_name', 'co_names', 'co_nlocals', 'co_posonlyargcount', 'co_stacksize', 'co_varnames', 'replace']\n",
      "('a', 'b')\n",
      "1\n"
     ]
    }
   ],
   "source": [
    "# Function introspection\n",
    "def func(a):\n",
    "    b = 'spam'\n",
    "    return b * a\n",
    "\n",
    "print(func(8))\n",
    "\n",
    "print(func.__name__)\n",
    "print(dir(func))\n",
    "print(func.__code__)\n",
    "print(dir(func.__code__))\n",
    "print(func.__code__.co_varnames)\n",
    "print(func.__code__.co_argcount)"
   ]
  },
  {
   "cell_type": "code",
   "execution_count": 28,
   "metadata": {},
   "outputs": [
    {
     "name": "stdout",
     "output_type": "stream",
     "text": [
      "['__annotations__', '__call__', '__class__', '__closure__', '__code__', '__defaults__', '__delattr__', '__dict__', '__dir__', '__doc__', '__eq__', '__format__', '__ge__', '__get__', '__getattribute__', '__globals__', '__gt__', '__hash__', '__init__', '__init_subclass__', '__kwdefaults__', '__le__', '__lt__', '__module__', '__name__', '__ne__', '__new__', '__qualname__', '__reduce__', '__reduce_ex__', '__repr__', '__setattr__', '__sizeof__', '__str__', '__subclasshook__', 'count', 'handles']\n",
      "['__annotations__', '__call__', '__class__', '__closure__', '__code__', '__defaults__', '__delattr__', '__dict__', '__dir__', '__doc__', '__eq__', '__format__', '__ge__', '__get__', '__getattribute__', '__globals__', '__gt__', '__hash__', '__init__', '__init_subclass__', '__kwdefaults__', '__le__', '__lt__', '__module__', '__name__', '__ne__', '__new__', '__qualname__', '__reduce__', '__reduce_ex__', '__repr__', '__setattr__', '__sizeof__', '__str__', '__subclasshook__']\n",
      "35\n"
     ]
    }
   ],
   "source": [
    "# Function attributes\n",
    "func.count = 0\n",
    "func.count += 1\n",
    "func.count\n",
    "func.handles = 'Button-Press'\n",
    "func.handles\n",
    "print(dir(func))\n",
    "\n",
    "def f():pass\n",
    "\n",
    "print(dir(f))\n",
    "\n",
    "print(len(dir(f)))\n",
    "\n"
   ]
  },
  {
   "cell_type": "code",
   "execution_count": 33,
   "metadata": {},
   "outputs": [
    {
     "name": "stdout",
     "output_type": "stream",
     "text": [
      "{'a': 'spam', 'b': (1, 10), 'c': <class 'float'>, 'return': <class 'int'>}\n"
     ]
    },
    {
     "data": {
      "text/plain": [
       "15"
      ]
     },
     "execution_count": 33,
     "metadata": {},
     "output_type": "execute_result"
    }
   ],
   "source": [
    "# Function annotations in 3.x\n",
    "\n",
    "def func(a, b, c):\n",
    "    return a + b + c\n",
    "\n",
    "func(1, 2, 3)\n",
    "\n",
    "def func(a: 'spam', b: (1, 10), c: float) -> int:\n",
    "    return a + b + c\n",
    "\n",
    "func(1, 2, 3)\n",
    "\n",
    "print(func.__annotations__)\n",
    "\n",
    "# can still set default values\n",
    "def func(a: 'spam' = 4, b: (1, 10) = 5, c: float = 6) -> int:\n",
    "    return a + b + c\n",
    "\n",
    "func()\n"
   ]
  },
  {
   "cell_type": "code",
   "execution_count": 42,
   "metadata": {},
   "outputs": [
    {
     "name": "stdout",
     "output_type": "stream",
     "text": [
      "Sir robin\n",
      "<function knights.<locals>.<lambda> at 0x0000017CA1B66A60>\n",
      "4\n",
      "8\n",
      "16\n",
      "9\n"
     ]
    },
    {
     "data": {
      "text/plain": [
       "8"
      ]
     },
     "execution_count": 42,
     "metadata": {},
     "output_type": "execute_result"
    }
   ],
   "source": [
    "# ANONYMOUS FUNCTIONS: LAMBDA\n",
    "\n",
    "# Lambda basics\n",
    "'''\n",
    "lambda is an expression, not a statement\n",
    "lambda's body is a single expression, not a block of statements\n",
    "'''\n",
    "\n",
    "def func(x, y, z): return x + y + z\n",
    "func(2, 3, 4)\n",
    "\n",
    "f = lambda x, y, z: x + y + z\n",
    "f(2, 3, 4)\n",
    "\n",
    "# can use default values\n",
    "x = (lambda a='fee', b='fie', c='foe': a + b + c)\n",
    "x('wee')\n",
    "\n",
    "# same scope lookup rules\n",
    "def knights():\n",
    "    title = 'Sir'\n",
    "    action = (lambda x: title + ' ' + x)\n",
    "    return action\n",
    "\n",
    "act = knights()\n",
    "msg = act('robin')\n",
    "print(msg)\n",
    "print(act)\n",
    "\n",
    "# often used for callback functions\n",
    "# jump tables\n",
    "L = [lambda x: x ** 2,\n",
    "    lambda x: x ** 3,\n",
    "    lambda x: x ** 4\n",
    "]\n",
    "\n",
    "for f in L:\n",
    "    print(f(2))\n",
    "\n",
    "print(L[0](3))\n",
    "\n",
    "# multiway branch switches: the finale\n",
    "key = 'got'\n",
    "{'already': (lambda: 2 + 2),\n",
    " 'got' : (lambda: 2 * 4),\n",
    " 'one': (lambda: 2 ** 6)\n",
    "}[key]()\n",
    "\n"
   ]
  },
  {
   "cell_type": "code",
   "execution_count": 51,
   "metadata": {},
   "outputs": [
    {
     "name": "stdout",
     "output_type": "stream",
     "text": [
      "aa\n",
      "aa\n",
      "spam\n",
      "toast\n",
      "eggs\n",
      "bright\n",
      "side\n",
      "of\n",
      "life\n"
     ]
    }
   ],
   "source": [
    "# HOW NOT TO OBFUSCATE YOUR PYTHON CODE\n",
    "\n",
    "lower = (lambda x, y: x if x < y else y)\n",
    "print(lower('bb', 'aa'))\n",
    "print(lower('aa', 'bb'))\n",
    "\n",
    "import sys\n",
    "showall = lambda x: list(map(sys.stdout.write, x))\n",
    "t = showall(['spam\\n', 'toast\\n', 'eggs\\n'])\n",
    "\n",
    "showall = lambda x: [sys.stdout.write(line) for line in x]\n",
    "t = showall(('bright\\n', 'side\\n', 'of\\n', 'life\\n'))\n",
    "\n",
    "showall = lambda x: [print(line, end='') for line in x]\n",
    "showall = lambda x: print(*x, sep='', end='')"
   ]
  },
  {
   "cell_type": "code",
   "execution_count": 57,
   "metadata": {},
   "outputs": [
    {
     "name": "stdout",
     "output_type": "stream",
     "text": [
      "<function action.<locals>.<lambda> at 0x0000017CA1B8ED30>\n",
      "101\n",
      "102\n",
      "103\n"
     ]
    }
   ],
   "source": [
    "# Scopes: lambdas can be nested too\n",
    "\n",
    "def action(x):\n",
    "    return lambda y: x + y\n",
    "\n",
    "act = action(99)\n",
    "print(act)\n",
    "print(act(2))\n",
    "\n",
    "action = (lambda x: (lambda y: x + y))\n",
    "act = action(99)\n",
    "print(act(3))\n",
    "print(((lambda x: (lambda y: x + y))(99))(4))"
   ]
  },
  {
   "cell_type": "code",
   "execution_count": 59,
   "metadata": {},
   "outputs": [
    {
     "name": "stdout",
     "output_type": "stream",
     "text": [
      "Spam\n",
      "Spam\n"
     ]
    }
   ],
   "source": [
    "# lambda callbacks\n",
    "import sys\n",
    "from tkinter import Button, mainloop\n",
    "x = Button(\n",
    "    text='Press me',\n",
    "    command=(lambda:sys.stdout.write('Spam\\n')))\n",
    "x.pack()\n",
    "mainloop()"
   ]
  },
  {
   "cell_type": "code",
   "execution_count": 70,
   "metadata": {},
   "outputs": [
    {
     "name": "stdout",
     "output_type": "stream",
     "text": [
      "[11, 12, 13, 14]\n"
     ]
    },
    {
     "ename": "TypeError",
     "evalue": "pow() missing required argument 'exp' (pos 2)",
     "output_type": "error",
     "traceback": [
      "\u001b[1;31m---------------------------------------------------------------------------\u001b[0m",
      "\u001b[1;31mTypeError\u001b[0m                                 Traceback (most recent call last)",
      "Cell \u001b[1;32mIn [70], line 21\u001b[0m\n\u001b[0;32m     19\u001b[0m two \u001b[39m=\u001b[39m [\u001b[39m2\u001b[39m, \u001b[39m3\u001b[39m, \u001b[39m4\u001b[39m]\n\u001b[0;32m     20\u001b[0m three \u001b[39m=\u001b[39m (one, two)\n\u001b[1;32m---> 21\u001b[0m \u001b[39mlist\u001b[39;49m(\u001b[39mmap\u001b[39;49m(\u001b[39mpow\u001b[39;49m, three))\n",
      "\u001b[1;31mTypeError\u001b[0m: pow() missing required argument 'exp' (pos 2)"
     ]
    }
   ],
   "source": [
    "# FUNCTIONAL PROGRAMMING TOOLS\n",
    "\n",
    "# Mapping functions over iterables: map\n",
    "\n",
    "counters = [1, 2, 3, 4]\n",
    "\n",
    "updated = []\n",
    "for x in counters:\n",
    "    updated.append(x + 10)\n",
    "\n",
    "print(updated)\n",
    "\n",
    "#\n",
    "\n",
    "def inc(x): return x + 10\n",
    "\n",
    "list(map(inc, counters))\n",
    "one = [1, 2, 3]\n",
    "two = [2, 3, 4]\n",
    "three = (one, two)\n",
    "list(map(pow, three))"
   ]
  },
  {
   "cell_type": "code",
   "execution_count": null,
   "metadata": {},
   "outputs": [],
   "source": [
    "# selecting items in iterables: filter"
   ]
  }
 ],
 "metadata": {
  "kernelspec": {
   "display_name": "Python 3.8.3 64-bit",
   "language": "python",
   "name": "python3"
  },
  "language_info": {
   "codemirror_mode": {
    "name": "ipython",
    "version": 3
   },
   "file_extension": ".py",
   "mimetype": "text/x-python",
   "name": "python",
   "nbconvert_exporter": "python",
   "pygments_lexer": "ipython3",
   "version": "3.8.3"
  },
  "orig_nbformat": 4,
  "vscode": {
   "interpreter": {
    "hash": "570feb405e2e27c949193ac68f46852414290d515b0ba6e5d90d076ed2284471"
   }
  }
 },
 "nbformat": 4,
 "nbformat_minor": 2
}
