{
 "cells": [
  {
   "cell_type": "markdown",
   "metadata": {},
   "source": [
    "# Chapter 22 - Modules: The Big Picture"
   ]
  },
  {
   "cell_type": "code",
   "execution_count": 2,
   "metadata": {},
   "outputs": [
    {
     "name": "stdout",
     "output_type": "stream",
     "text": [
      "c:\\myRepos\\python_repos\\learningPython\\V Modules and Packages\n",
      "c:\\Program Files\\Python38\\python38.zip\n",
      "c:\\Program Files\\Python38\\DLLs\n",
      "c:\\Program Files\\Python38\\lib\n",
      "c:\\Program Files\\Python38\n",
      "\n",
      "C:\\Users\\p2894500\\AppData\\Roaming\\Python\\Python38\\site-packages\n",
      "C:\\Users\\p2894500\\AppData\\Roaming\\Python\\Python38\\site-packages\\win32\n",
      "C:\\Users\\p2894500\\AppData\\Roaming\\Python\\Python38\\site-packages\\win32\\lib\n",
      "C:\\Users\\p2894500\\AppData\\Roaming\\Python\\Python38\\site-packages\\Pythonwin\n",
      "c:\\Program Files\\Python38\\lib\\site-packages\n"
     ]
    },
    {
     "data": {
      "text/plain": [
       "[None, None, None, None, None, None, None, None, None, None, None]"
      ]
     },
     "execution_count": 2,
     "metadata": {},
     "output_type": "execute_result"
    }
   ],
   "source": [
    "# The module search path\n",
    "'''\n",
    "sys.path\n",
    "\n",
    "1. the home directory of the program\n",
    "2. PYTHONPATH directories (if set)\n",
    "3. standard library directories\n",
    "4. the contents of any.pth files (if present)\n",
    "5. the site-packages home of third-party extensions\n",
    "'''\n",
    "\n",
    "[print(x) for x in sys.path]"
   ]
  }
 ],
 "metadata": {
  "kernelspec": {
   "display_name": "Python 3.8.3 64-bit",
   "language": "python",
   "name": "python3"
  },
  "language_info": {
   "codemirror_mode": {
    "name": "ipython",
    "version": 3
   },
   "file_extension": ".py",
   "mimetype": "text/x-python",
   "name": "python",
   "nbconvert_exporter": "python",
   "pygments_lexer": "ipython3",
   "version": "3.8.3"
  },
  "orig_nbformat": 4,
  "vscode": {
   "interpreter": {
    "hash": "570feb405e2e27c949193ac68f46852414290d515b0ba6e5d90d076ed2284471"
   }
  }
 },
 "nbformat": 4,
 "nbformat_minor": 2
}
