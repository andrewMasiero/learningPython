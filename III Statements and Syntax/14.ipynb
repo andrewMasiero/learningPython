{
 "cells": [
  {
   "cell_type": "markdown",
   "metadata": {},
   "source": [
    "# Chapter 14 | Iterations and Comprehensions"
   ]
  },
  {
   "cell_type": "code",
   "execution_count": 15,
   "metadata": {},
   "outputs": [
    {
     "name": "stdout",
     "output_type": "stream",
     "text": [
      "IMPORT SYS\n",
      "PRINT(SYS.PATH)\n",
      "X = 2\n",
      "PRINT(X ** 32)\n"
     ]
    },
    {
     "data": {
      "text/plain": [
       "'x = 2\\n'"
      ]
     },
     "execution_count": 15,
     "metadata": {},
     "output_type": "execute_result"
    }
   ],
   "source": [
    "# The iteration protocol: file iterators\n",
    "for line in open('script2.py'):\n",
    "    print(line.upper(), end='')\n"
   ]
  },
  {
   "cell_type": "code",
   "execution_count": 25,
   "metadata": {},
   "outputs": [
    {
     "name": "stdout",
     "output_type": "stream",
     "text": [
      "1 4 9 \n",
      "[1, 2, 3]\n",
      "1 4 9 "
     ]
    }
   ],
   "source": [
    "# Manual iteration: iter and next\n",
    "L = [1, 2, 3]\n",
    "# print(iter(L) is L)         # not an iter\n",
    "for X in L:                # automatic iteration\n",
    "    print(X ** 2, end=' ')  # obtains iter, calls __next__, catches exceptions\n",
    "\n",
    "I = iter(L)\n",
    "print()\n",
    "# print(iter(I) is I)         # is an iter\n",
    "print(L)\n",
    "while True:\n",
    "    try:\n",
    "        X = next(I)\n",
    "    except StopIteration:\n",
    "        break\n",
    "    print(X ** 2, end=' ')"
   ]
  },
  {
   "cell_type": "code",
   "execution_count": 32,
   "metadata": {},
   "outputs": [
    {
     "name": "stdout",
     "output_type": "stream",
     "text": [
      "a 1\n",
      "b 2\n",
      "c 3\n",
      "a 1\n",
      "b 2\n",
      "c 3\n"
     ]
    },
    {
     "ename": "TypeError",
     "evalue": "'_wrap_close' object is not an iterator",
     "output_type": "error",
     "traceback": [
      "\u001b[1;31m---------------------------------------------------------------------------\u001b[0m",
      "\u001b[1;31mTypeError\u001b[0m                                 Traceback (most recent call last)",
      "Cell \u001b[1;32mIn [32], line 12\u001b[0m\n\u001b[0;32m     10\u001b[0m P \u001b[39m=\u001b[39m os\u001b[39m.\u001b[39mpopen(\u001b[39m'\u001b[39m\u001b[39mdir\u001b[39m\u001b[39m'\u001b[39m)\n\u001b[0;32m     11\u001b[0m P\u001b[39m.\u001b[39m\u001b[39m__next__\u001b[39m()\n\u001b[1;32m---> 12\u001b[0m \u001b[39mnext\u001b[39;49m(P)\n",
      "\u001b[1;31mTypeError\u001b[0m: '_wrap_close' object is not an iterator"
     ]
    }
   ],
   "source": [
    "# Other built-in type iterables\n",
    "D = {'a':1, 'b':2, 'c':3}\n",
    "for key in D.keys():\n",
    "    print(key, D[key])\n",
    "\n",
    "for key in D:\n",
    "    print(key, D[key])\n",
    "\n",
    "import os\n",
    "P = os.popen('dir')\n",
    "P.__next__()\n",
    "next(P)                 # next(P) does not work on popen for some reason; whatever"
   ]
  },
  {
   "cell_type": "code",
   "execution_count": 34,
   "metadata": {},
   "outputs": [
    {
     "name": "stdout",
     "output_type": "stream",
     "text": [
      "[11, 12, 13, 14, 15]\n",
      "[21, 22, 23, 24, 25]\n"
     ]
    }
   ],
   "source": [
    "# List comprehensions: a first detailed look\n",
    "L = [1, 2, 3, 4, 5]\n",
    "\n",
    "for i in range(len(L)):\n",
    "    L[i] += 10\n",
    "print(L)\n",
    "\n",
    "# list comprehension creates a NEW list\n",
    "L = [x + 10 for x in L]\n",
    "print(L)"
   ]
  },
  {
   "cell_type": "code",
   "execution_count": 41,
   "metadata": {},
   "outputs": [
    {
     "name": "stdout",
     "output_type": "stream",
     "text": [
      "['import sys\\n', 'print(sys.path)\\n', 'x = 2\\n', 'print(x ** 32)\\n']\n",
      "['import sys', 'print(sys.path)', 'x = 2', 'print(x ** 32)']\n",
      "['import sys', 'print(sys.path)', 'x = 2', 'print(x ** 32)']\n",
      "[{'import sys': 11, 'print(sys.path)': 16, 'x = 2': 6, 'print(x ** 32)': 15}]\n"
     ]
    }
   ],
   "source": [
    "# using list comprehentions on files\n",
    "f = open('script2.py')\n",
    "lines = f.readlines()\n",
    "print(lines)\n",
    "\n",
    "lines = [line.rstrip() for line in lines]\n",
    "print(lines)\n",
    "\n",
    "lines = [line.rstrip() for line in open('script2.py')]\n",
    "print(lines)\n",
    "\n",
    "print([{line.rstrip():len(line) for line in open('script2.py')}])\n"
   ]
  },
  {
   "cell_type": "code",
   "execution_count": 44,
   "metadata": {},
   "outputs": [
    {
     "name": "stdout",
     "output_type": "stream",
     "text": [
      "['print(sys.path)', 'print(x ** 32)']\n",
      "['al', 'am', 'an', 'bl', 'bm', 'bn', 'cl', 'cm', 'cn']\n"
     ]
    }
   ],
   "source": [
    "# extended list comprehension syntax\n",
    "# filter clauses: if\n",
    "print([line.rstrip() for line in open('script2.py') if line[0] == 'p'])\n",
    "\n",
    "# nested loops: for\n",
    "print([x + y for x in 'abc' for y in 'lmn'])\n"
   ]
  },
  {
   "cell_type": "code",
   "execution_count": 49,
   "metadata": {},
   "outputs": [
    {
     "name": "stdout",
     "output_type": "stream",
     "text": [
      "<zip object at 0x000002C476236A00>\n",
      "[('a', 'x'), ('b', 'y'), ('c', 'z')]\n"
     ]
    }
   ],
   "source": [
    "# other iteration contexts\n",
    "# very common: used by open files, lists, map, dict, sorted, zip, enumerate, filter, reduce\n",
    "# new iterables in python 3.x\n",
    "print(zip('abc', 'xyz'))\n",
    "print(list(zip('abc', 'xyz'))) # in 3.x iteration functions must be converted to a list if it is needed more than once\n",
    "\n",
    "# the range iterable\n",
    "# the map, zip, and filter iterables\n",
    "# dictionary view iterables\n"
   ]
  }
 ],
 "metadata": {
  "kernelspec": {
   "display_name": "Python 3.9.1 64-bit",
   "language": "python",
   "name": "python3"
  },
  "language_info": {
   "codemirror_mode": {
    "name": "ipython",
    "version": 3
   },
   "file_extension": ".py",
   "mimetype": "text/x-python",
   "name": "python",
   "nbconvert_exporter": "python",
   "pygments_lexer": "ipython3",
   "version": "3.9.1"
  },
  "orig_nbformat": 4,
  "vscode": {
   "interpreter": {
    "hash": "7acca9f89239cea9ee602293383d0578b230e8e5e92034fe3c9e98e69272162a"
   }
  }
 },
 "nbformat": 4,
 "nbformat_minor": 2
}
